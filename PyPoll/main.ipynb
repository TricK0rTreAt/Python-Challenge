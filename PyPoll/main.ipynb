{
 "cells": [
  {
   "cell_type": "code",
   "execution_count": 2,
   "metadata": {},
   "outputs": [
    {
     "name": "stdout",
     "output_type": "stream",
     "text": [
      "Election Results\n",
      "----------------------------\n",
      "Total Votes: 369711\n",
      "----------------------------\n",
      "Diana DeGette : 73.812 % ( 272892 )\n",
      "Charles Casper Stockham : 23.049 % ( 85213 )\n",
      "Raymon Anthony Doane : 3.139 % ( 11606 )\n",
      "----------------------------\n",
      "Winner: Diana DeGette\n",
      "----------------------------\n"
     ]
    }
   ],
   "source": [
    "import os\n",
    "import pandas as pd\n",
    "import csv\n",
    "\n",
    "#----------------------------PyPoll----------------------------\n",
    "df=pd.read_csv(\"C:/Users/Garnin/Desktop/PREWORK_KUO\\HW3/PyPoll/Resources/election_data.csv\")\n",
    "\n",
    "\n",
    "#export a text file with the results\n",
    "\n",
    "path = 'Election Results.txt'\n",
    "f = open(path, 'w')\n",
    "print(\"Election Results\")\n",
    "print(\"Election Results\", file=f)\n",
    "\n",
    "print(\"----------------------------\")\n",
    "print(\"----------------------------\", file=f)\n",
    "\n",
    "# The total number of votes cast\n",
    "total_ballot=df[\"Ballot ID\"].count()\n",
    "print(\"Total Votes:\",total_ballot)\n",
    "print(\"Total Votes:\",total_ballot, file=f)\n",
    "\n",
    "\n",
    "print(\"----------------------------\")\n",
    "print(\"----------------------------\", file=f)\n",
    "\n",
    "Diana_count=df[\"Candidate\"]==\"Diana DeGette\"\n",
    "Charles_count=df[\"Candidate\"]==\"Charles Casper Stockham\"\n",
    "Raymon_count=df[\"Candidate\"]==\"Raymon Anthony Doane\"\n",
    "\n",
    "len(df[Diana_count])\n",
    "len(df[Charles_count])\n",
    "len(df[Raymon_count])\n",
    "\n",
    "print(\"Diana DeGette :\", round(len(df[Diana_count])/total_ballot*100,3), \"%\", \"(\", len(df[Diana_count]),\")\")\n",
    "print(\"Charles Casper Stockham :\", round(len(df[Charles_count])/total_ballot*100,3), \"%\", \"(\", len(df[Charles_count]),\")\")\n",
    "print(\"Raymon Anthony Doane :\", round(len(df[Raymon_count])/total_ballot*100,3), \"%\", \"(\", len(df[Raymon_count]),\")\")\n",
    "\n",
    "print(\"Diana DeGette :\", round(len(df[Diana_count])/total_ballot*100,3), \"%\", \"(\", len(df[Diana_count]),\")\", file=f)\n",
    "print(\"Charles Casper Stockham :\", round(len(df[Charles_count])/total_ballot*100,3), \"%\", \"(\", len(df[Charles_count]),\")\", file=f)\n",
    "print(\"Raymon Anthony Doane :\", round(len(df[Raymon_count])/total_ballot*100,3), \"%\", \"(\", len(df[Raymon_count]),\")\", file=f)\n",
    "\n",
    "print(\"----------------------------\")\n",
    "print(\"----------------------------\", file=f)\n",
    "\n",
    "print(\"Winner: Diana DeGette\")\n",
    "print(\"Winner: Diana DeGette\", file=f)\n",
    "\n",
    "print(\"----------------------------\")\n",
    "print(\"----------------------------\", file=f)"
   ]
  },
  {
   "cell_type": "code",
   "execution_count": null,
   "metadata": {},
   "outputs": [],
   "source": []
  }
 ],
 "metadata": {
  "kernelspec": {
   "display_name": "Python 3",
   "language": "python",
   "name": "python3"
  },
  "language_info": {
   "codemirror_mode": {
    "name": "ipython",
    "version": 3
   },
   "file_extension": ".py",
   "mimetype": "text/x-python",
   "name": "python",
   "nbconvert_exporter": "python",
   "pygments_lexer": "ipython3",
   "version": "3.7.4"
  }
 },
 "nbformat": 4,
 "nbformat_minor": 4
}
