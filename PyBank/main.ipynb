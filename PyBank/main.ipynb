{
 "cells": [
  {
   "cell_type": "code",
   "execution_count": 14,
   "metadata": {},
   "outputs": [
    {
     "name": "stdout",
     "output_type": "stream",
     "text": [
      "Financial Analysis\n",
      "----------------------------\n",
      "total months =  86\n",
      "total amount = $ 22564198\n",
      "Average changes = $ -8311.11\n",
      "The greatest increase in profits is $ 1862002 on Aug-16 .\n",
      "The greatest decrease in profits is $ -1825558 on Feb-14 .\n"
     ]
    }
   ],
   "source": [
    "import os\n",
    "import pandas as pd\n",
    "import csv\n",
    "\n",
    "#----------------------------PyBank----------------------------\n",
    "df=pd.read_csv(\"C:/Users/Garnin/Desktop/PREWORK_KUO/HW3/PyBank/Resources/budget_data.csv\")\n",
    "\n",
    "#export a text file with the results\n",
    "\n",
    "path = 'C:/Users/Garnin/Desktop/PREWORK_KUO\\HW3/PyBank/Analysis/Financial Analysis.txt'\n",
    "f = open(path, 'w')\n",
    "print(\"Financial Analysis\")\n",
    "print(\"Financial Analysis\", file=f)\n",
    "\n",
    "print(\"----------------------------\")\n",
    "print(\"----------------------------\", file=f)\n",
    "\n",
    "#The total number of months included in the dataset\n",
    "total_months=df[\"Date\"].count()\n",
    "print(\"total months = \",total_months)\n",
    "print(\"total months = \",total_months, file=f)\n",
    "\n",
    "#The net total amount of \"Profit/Losses\" over the entire period\n",
    "total_amount=df[\"Profit/Losses\"].sum()\n",
    "print(\"total amount = $\",total_amount)\n",
    "print(\"total amount = $\",total_amount, file=f)\n",
    "\n",
    "#add a new column\n",
    "df[\"Amount_changed\"]=0\n",
    "\n",
    "#The changes in \"Profit/Losses\" over the entire period, and then the average of those changes\n",
    "i=0\n",
    "Beginning_amount=0\n",
    "Final_amount=0\n",
    "\n",
    "for i in range(0,85):\n",
    "    Beginning_amount=df.iloc[i,1]\n",
    "    Final_amount=df.iloc[i+1,1]\n",
    "    df.iloc[i+1,2]=Final_amount - Beginning_amount\n",
    "    df.iloc[0,2]=0\n",
    "    \n",
    "Average_changes=round(df[\"Amount_changed\"].sum()/(total_months-1),2)\n",
    "print(\"Average changes = $\",Average_changes)\n",
    "print(\"Average changes = $\",Average_changes, file=f)\n",
    "\n",
    "# The greatest increase in profits (date and amount) over the entire period\n",
    "\n",
    "j=0\n",
    "\n",
    "for j in range(0,85):\n",
    "    if df.iloc[j,2]==df[\"Amount_changed\"].max():\n",
    "        print(\"The greatest increase in profits is $\", df[\"Amount_changed\"].max(), \"on\", df.iloc[j,0],\".\")\n",
    "        print(\"The greatest increase in profits is $\", df[\"Amount_changed\"].max(), \"on\", df.iloc[j,0],\".\", file=f)\n",
    "        \n",
    "# The greatest decrease in profits (date and amount) over the entire period\n",
    "k=0\n",
    "\n",
    "for k in range(0,85):\n",
    "    if df.iloc[k,2]==df[\"Amount_changed\"].min():\n",
    "        print(\"The greatest decrease in profits is $\", df[\"Amount_changed\"].min(), \"on\", df.iloc[k,0],\".\")\n",
    "        print(\"The greatest decrease in profits is $\", df[\"Amount_changed\"].min(), \"on\", df.iloc[k,0],\".\", file=f)\n",
    "        \n",
    "f.close()"
   ]
  }
 ],
 "metadata": {
  "kernelspec": {
   "display_name": "Python 3",
   "language": "python",
   "name": "python3"
  },
  "language_info": {
   "codemirror_mode": {
    "name": "ipython",
    "version": 3
   },
   "file_extension": ".py",
   "mimetype": "text/x-python",
   "name": "python",
   "nbconvert_exporter": "python",
   "pygments_lexer": "ipython3",
   "version": "3.7.4"
  }
 },
 "nbformat": 4,
 "nbformat_minor": 4
}
